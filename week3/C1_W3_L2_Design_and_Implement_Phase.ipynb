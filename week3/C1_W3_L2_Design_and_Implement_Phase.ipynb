{
 "cells": [
  {
   "cell_type": "markdown",
   "metadata": {},
   "source": [
    "# Air Quality: Design (wrap up) and Implement your Product\n",
    "\n",
    "Welcome to the final lab of this project. Here again, you'll be working with the dataset you've now become familiar with from the air quality monitoring network in Bogotá [RMCAB](http://201.245.192.252:81/home/map). In this notebook, you will complete the following steps:\n",
    "\n",
    "1. Import Python packages\n",
    "2. Load the dataset with missing values filled in (output from the last lab)\n",
    "3. Use the nearest neighbor method to make a map of PM2.5 in Bogotá\n",
    "4. Test different values of k for the nearest neighbor method\n",
    "5. Use the best value of k to make a map of PM2.5 in Bogotá\n",
    "6. Construct a map animation of PM2.5 in Bogotá\n",
    "7. Display your map animation"
   ]
  },
  {
   "cell_type": "markdown",
   "metadata": {},
   "source": [
    "## 1. Importar Pacotes Python  \n",
    "\n",
    "Execute a próxima célula para importar os pacotes Python necessários para este laboratório.  \n",
    "\n",
    "Observe a linha `import utils`. Ela importa funções desenvolvidas especificamente para este laboratório. Se desejar visualizar essas funções, acesse `Arquivo -> Abrir...` e abra o arquivo `utils.py`.  "
   ]
  },
  {
   "cell_type": "code",
   "execution_count": 3,
   "metadata": {},
   "outputs": [
    {
     "name": "stdout",
     "output_type": "stream",
     "text": [
      "All packages imported successfully!\n"
     ]
    }
   ],
   "source": [
    "# Import Python packages.\n",
    "import folium # package for animations\n",
    "import folium.plugins as plugins # extras for animations\n",
    "import pandas as pd # package for reading in and manipulating data\n",
    "from sklearn.neighbors import KNeighborsRegressor # package for doing KNN\n",
    "from datetime import datetime # package for manipulating dates\n",
    "\n",
    "import utils1 # utility functions defined for this lab\n",
    "\n",
    "print(\"All packages imported successfully!\")"
   ]
  },
  {
   "cell_type": "markdown",
   "metadata": {},
   "source": [
    "## 2. Carregar o conjunto de dados com valores faltantes preenchidos (resultado do laboratório anterior)  \n",
    "\n",
    "Execute a próxima célula para ler o conjunto de dados que foi o resultado final do laboratório anterior - um dataset com todos os valores ausentes de poluentes devidamente preenchidos."
   ]
  },
  {
   "cell_type": "code",
   "execution_count": 5,
   "metadata": {},
   "outputs": [
    {
     "data": {
      "text/html": [
       "<div>\n",
       "<style scoped>\n",
       "    .dataframe tbody tr th:only-of-type {\n",
       "        vertical-align: middle;\n",
       "    }\n",
       "\n",
       "    .dataframe tbody tr th {\n",
       "        vertical-align: top;\n",
       "    }\n",
       "\n",
       "    .dataframe thead th {\n",
       "        text-align: right;\n",
       "    }\n",
       "</style>\n",
       "<table border=\"1\" class=\"dataframe\">\n",
       "  <thead>\n",
       "    <tr style=\"text-align: right;\">\n",
       "      <th></th>\n",
       "      <th>DateTime</th>\n",
       "      <th>Station</th>\n",
       "      <th>Latitude</th>\n",
       "      <th>Longitude</th>\n",
       "      <th>PM2.5</th>\n",
       "      <th>PM10</th>\n",
       "      <th>NO</th>\n",
       "      <th>NO2</th>\n",
       "      <th>NOX</th>\n",
       "      <th>CO</th>\n",
       "      <th>OZONE</th>\n",
       "      <th>PM2.5_imputed_flag</th>\n",
       "      <th>PM10_imputed_flag</th>\n",
       "      <th>NO_imputed_flag</th>\n",
       "      <th>NO2_imputed_flag</th>\n",
       "      <th>NOX_imputed_flag</th>\n",
       "      <th>CO_imputed_flag</th>\n",
       "      <th>OZONE_imputed_flag</th>\n",
       "    </tr>\n",
       "  </thead>\n",
       "  <tbody>\n",
       "    <tr>\n",
       "      <th>0</th>\n",
       "      <td>2021-01-01 00:00:00</td>\n",
       "      <td>USM</td>\n",
       "      <td>4.532097</td>\n",
       "      <td>-74.116947</td>\n",
       "      <td>32.7</td>\n",
       "      <td>56.6</td>\n",
       "      <td>7.504</td>\n",
       "      <td>15.962</td>\n",
       "      <td>23.493</td>\n",
       "      <td>0.44924</td>\n",
       "      <td>2.431</td>\n",
       "      <td>NaN</td>\n",
       "      <td>NaN</td>\n",
       "      <td>NaN</td>\n",
       "      <td>NaN</td>\n",
       "      <td>NaN</td>\n",
       "      <td>NaN</td>\n",
       "      <td>NaN</td>\n",
       "    </tr>\n",
       "    <tr>\n",
       "      <th>1</th>\n",
       "      <td>2021-01-01 01:00:00</td>\n",
       "      <td>USM</td>\n",
       "      <td>4.532097</td>\n",
       "      <td>-74.116947</td>\n",
       "      <td>39.3</td>\n",
       "      <td>59.3</td>\n",
       "      <td>16.560</td>\n",
       "      <td>17.866</td>\n",
       "      <td>34.426</td>\n",
       "      <td>0.69832</td>\n",
       "      <td>1.121</td>\n",
       "      <td>NaN</td>\n",
       "      <td>NaN</td>\n",
       "      <td>NaN</td>\n",
       "      <td>NaN</td>\n",
       "      <td>NaN</td>\n",
       "      <td>NaN</td>\n",
       "      <td>NaN</td>\n",
       "    </tr>\n",
       "    <tr>\n",
       "      <th>2</th>\n",
       "      <td>2021-01-01 02:00:00</td>\n",
       "      <td>USM</td>\n",
       "      <td>4.532097</td>\n",
       "      <td>-74.116947</td>\n",
       "      <td>70.8</td>\n",
       "      <td>96.4</td>\n",
       "      <td>22.989</td>\n",
       "      <td>17.802</td>\n",
       "      <td>40.791</td>\n",
       "      <td>0.88243</td>\n",
       "      <td>1.172</td>\n",
       "      <td>NaN</td>\n",
       "      <td>NaN</td>\n",
       "      <td>NaN</td>\n",
       "      <td>NaN</td>\n",
       "      <td>NaN</td>\n",
       "      <td>NaN</td>\n",
       "      <td>NaN</td>\n",
       "    </tr>\n",
       "    <tr>\n",
       "      <th>3</th>\n",
       "      <td>2021-01-01 03:00:00</td>\n",
       "      <td>USM</td>\n",
       "      <td>4.532097</td>\n",
       "      <td>-74.116947</td>\n",
       "      <td>81.0</td>\n",
       "      <td>108.3</td>\n",
       "      <td>3.704</td>\n",
       "      <td>9.886</td>\n",
       "      <td>13.591</td>\n",
       "      <td>0.29549</td>\n",
       "      <td>6.565</td>\n",
       "      <td>NaN</td>\n",
       "      <td>NaN</td>\n",
       "      <td>NaN</td>\n",
       "      <td>NaN</td>\n",
       "      <td>NaN</td>\n",
       "      <td>NaN</td>\n",
       "      <td>NaN</td>\n",
       "    </tr>\n",
       "    <tr>\n",
       "      <th>4</th>\n",
       "      <td>2021-01-01 04:00:00</td>\n",
       "      <td>USM</td>\n",
       "      <td>4.532097</td>\n",
       "      <td>-74.116947</td>\n",
       "      <td>56.1</td>\n",
       "      <td>87.7</td>\n",
       "      <td>2.098</td>\n",
       "      <td>9.272</td>\n",
       "      <td>11.371</td>\n",
       "      <td>0.16621</td>\n",
       "      <td>9.513</td>\n",
       "      <td>NaN</td>\n",
       "      <td>NaN</td>\n",
       "      <td>NaN</td>\n",
       "      <td>NaN</td>\n",
       "      <td>NaN</td>\n",
       "      <td>NaN</td>\n",
       "      <td>NaN</td>\n",
       "    </tr>\n",
       "  </tbody>\n",
       "</table>\n",
       "</div>"
      ],
      "text/plain": [
       "             DateTime Station  Latitude  Longitude  PM2.5   PM10      NO  \\\n",
       "0 2021-01-01 00:00:00     USM  4.532097 -74.116947   32.7   56.6   7.504   \n",
       "1 2021-01-01 01:00:00     USM  4.532097 -74.116947   39.3   59.3  16.560   \n",
       "2 2021-01-01 02:00:00     USM  4.532097 -74.116947   70.8   96.4  22.989   \n",
       "3 2021-01-01 03:00:00     USM  4.532097 -74.116947   81.0  108.3   3.704   \n",
       "4 2021-01-01 04:00:00     USM  4.532097 -74.116947   56.1   87.7   2.098   \n",
       "\n",
       "      NO2     NOX       CO  OZONE PM2.5_imputed_flag PM10_imputed_flag  \\\n",
       "0  15.962  23.493  0.44924  2.431                NaN               NaN   \n",
       "1  17.866  34.426  0.69832  1.121                NaN               NaN   \n",
       "2  17.802  40.791  0.88243  1.172                NaN               NaN   \n",
       "3   9.886  13.591  0.29549  6.565                NaN               NaN   \n",
       "4   9.272  11.371  0.16621  9.513                NaN               NaN   \n",
       "\n",
       "  NO_imputed_flag NO2_imputed_flag NOX_imputed_flag CO_imputed_flag  \\\n",
       "0             NaN              NaN              NaN             NaN   \n",
       "1             NaN              NaN              NaN             NaN   \n",
       "2             NaN              NaN              NaN             NaN   \n",
       "3             NaN              NaN              NaN             NaN   \n",
       "4             NaN              NaN              NaN             NaN   \n",
       "\n",
       "  OZONE_imputed_flag  \n",
       "0                NaN  \n",
       "1                NaN  \n",
       "2                NaN  \n",
       "3                NaN  \n",
       "4                NaN  "
      ]
     },
     "execution_count": 5,
     "metadata": {},
     "output_type": "execute_result"
    }
   ],
   "source": [
    "# Load the dataset with missing values filled in.\n",
    "full_dataset = pd.read_csv('data/full_data_with_imputed_values.csv')\n",
    "full_dataset['DateTime'] = pd.to_datetime(full_dataset['DateTime'], dayfirst=True)\n",
    "\n",
    "full_dataset.head(5)"
   ]
  },
  {
   "cell_type": "markdown",
   "metadata": {},
   "source": [
    "## 3. Utilizar o método do vizinho mais próximo para criar um mapa de PM2.5 em Bogotá  \n",
    "\n",
    "Aqui você usará o método do vizinho mais próximo para estimar os valores dos poluentes nos pontos entre as estações, permitindo criar uma visualização espacial detalhada da poluição na cidade."
   ]
  },
  {
   "cell_type": "code",
   "execution_count": null,
   "metadata": {},
   "outputs": [],
   "source": [
    "# Define a value for k\n",
    "k = 3\n",
    "# Define the target pollutant\n",
    "target = 'PM2.5'\n",
    "# Define a grid cell size (higher value implies a finer grid)\n",
    "n_points_grid = 64\n",
    "neighbors_model = KNeighborsRegressor(n_neighbors=k, weights = 'distance', metric='sqeuclidean')\n",
    "# Isolate a single time step from the dataset\n",
    "time_step = datetime.fromisoformat('2021-04-05T08:00:00')\n",
    "time_step_data = full_dataset[full_dataset['DateTime'] == time_step]\n",
    "neighbors_model.fit(time_step_data[['Latitude', 'Longitude']], time_step_data[[target]])\n",
    "# Generate a map of predictions for Bogotá\n",
    "predictions_xy, dlat, dlon = utils.predict_on_bogota(neighbors_model, n_points_grid)\n",
    "utils.create_heat_map(predictions_xy, time_step_data, dlat, dlon, target)"
   ]
  },
  {
   "cell_type": "markdown",
   "metadata": {},
   "source": [
    "## 4. Testar diferentes valores de k para o método do vizinho mais próximo\n",
    "\n",
    "Execute as células abaixo para:\n",
    "1. Primeiro calcular o Erro Absoluto Médio (MAE) para k=1 (usando apenas um vizinho mais próximo, como foi feito no mapa acima)\n",
    "2. Em seguida, realizar o mesmo cálculo para diferentes valores de k\n",
    "\n",
    "Esta abordagem é similar à do laboratório anterior, onde você calculou o MAE usando medições de estações vizinhas para estimar os valores de PM2.5 em cada localização de estação. Aqui, vamos:\n",
    "\n",
    "- Avaliar o método mostrado no mapa em cada localização de estação\n",
    "- Simular a substituição da medição real da estação por:\n",
    "  * Um valor da estação vizinha mais próxima (k=1)\n",
    "  * Uma média ponderada das k estações vizinhas mais próximas (k>1)\n",
    "\n",
    "O cálculo do Erro Absoluto Médio (MAE) realizado pelo código segue a fórmula:\n",
    "\n",
    "$$MAE = \\frac{1}{n} \\sum_{i=1}^{n}{|\\rm{real}_i - \\rm{modelo}_i|}$$\n",
    "\n",
    "Onde:\n",
    "- \"n\" = número de amostras no conjunto de teste\n",
    "- \"real_i\" = valor medido na estação\n",
    "- \"modelo_i\" = valor estimado pelo método"
   ]
  },
  {
   "cell_type": "code",
   "execution_count": null,
   "metadata": {},
   "outputs": [],
   "source": [
    "# Make an estimate of mean absolute error for k=1\n",
    "utils.calculate_mae_for_k(full_dataset, k=1, target_pollutant=target)"
   ]
  },
  {
   "cell_type": "markdown",
   "metadata": {},
   "source": [
    "Após testar k=1, execute a próxima célula para testar uma variedade de valores para k."
   ]
  },
  {
   "cell_type": "code",
   "execution_count": null,
   "metadata": {},
   "outputs": [],
   "source": [
    "# Make an estimate of mean absolute error (MAE) for a range of k values.\n",
    "kmin = 1\n",
    "kmax = 7\n",
    "\n",
    "for kneighbors in range(kmin, kmax+1):\n",
    "    mae = utils.calculate_mae_for_k(full_dataset, k=kneighbors, target_pollutant=target)\n",
    "    print(f'k = {kneighbors}, MAE = {mae}')"
   ]
  },
  {
   "cell_type": "markdown",
   "metadata": {},
   "source": [
    "## 5. Utilizar o melhor valor de k para criar um mapa de PM2.5 em Bogotá\n",
    "\n",
    "Execute a célula abaixo para gerar um mapa de valores de PM2.5. O mapa mostrará a concentração do poluente escolhido na cidade na data selecionada (`end_date`). Ao clicar nos círculos do mapa (estações), serão exibidos gráficos pop-up mostrando a concentração do poluente no intervalo de tempo selecionado (de `start_date` até `end_date`). Você pode alterar os valores das datas, horários ou `k` para ver como os dados variam em diferentes períodos e como o resultado muda de acordo com `k`."
   ]
  },
  {
   "cell_type": "code",
   "execution_count": null,
   "metadata": {
    "scrolled": false
   },
   "outputs": [],
   "source": [
    "k = 3\n",
    "start_date = datetime.fromisoformat('2021-08-02T08:00:00')\n",
    "end_date = datetime.fromisoformat('2021-08-05T08:00:00')\n",
    "\n",
    "utils.create_heat_map_with_date_range(full_dataset, start_date, end_date, k, target)"
   ]
  },
  {
   "cell_type": "markdown",
   "metadata": {},
   "source": [
    "## 6. Construir uma animação do mapa de PM2.5 em Bogotá\n",
    "\n",
    "Execute a próxima célula para gerar uma animação da variação de PM2.5 em um intervalo de tempo específico. Você pode alterar o valor de k para usar um número diferente de vizinhos e modificar as datas e horários para analisar um período diferente."
   ]
  },
  {
   "cell_type": "code",
   "execution_count": null,
   "metadata": {},
   "outputs": [],
   "source": [
    "# Choose parameters for the animation\n",
    "k = 3\n",
    "n_points_grid = 64\n",
    "# Filter a date range\n",
    "start_date = datetime.fromisoformat('2021-08-04T08:00:00')\n",
    "end_date = datetime.fromisoformat('2021-08-05T08:00:00')\n",
    "\n",
    "# Create the features for the animation (these are the shapes that will appear on the map)\n",
    "features = utils.create_animation_features(full_dataset, start_date, end_date, k, n_points_grid, target)\n",
    "print('Features for the animation created successfully! Run the next cell to see the result!')"
   ]
  },
  {
   "cell_type": "markdown",
   "metadata": {},
   "source": [
    "## 7. Mostre a animação do seu mapa\n",
    "\n",
    "Rode a próxima célula para exibir a animação que você criou."
   ]
  },
  {
   "cell_type": "code",
   "execution_count": null,
   "metadata": {},
   "outputs": [],
   "source": [
    "# Create the map animation using the folium library\n",
    "map_animation = folium.Map(location=[4.7110, -74.0721], zoom_start = 11) \n",
    "# Add the features to the animation\n",
    "plugins.TimestampedGeoJson(\n",
    "    {\"type\": \"FeatureCollection\", \"features\": features},\n",
    "    period=\"PT1H\",\n",
    "    duration='PT1H',\n",
    "    add_last_point=True\n",
    ").add_to(map_animation)\n",
    "\n",
    "# Run the animation\n",
    "map_animation"
   ]
  },
  {
   "cell_type": "markdown",
   "metadata": {},
   "source": [
    "## **Congratulations on finishing this lab!**\n",
    "\n",
    "**Keep up the good work :)**"
   ]
  }
 ],
 "metadata": {
  "kernelspec": {
   "display_name": "aq",
   "language": "python",
   "name": "python3"
  },
  "language_info": {
   "codemirror_mode": {
    "name": "ipython",
    "version": 3
   },
   "file_extension": ".py",
   "mimetype": "text/x-python",
   "name": "python",
   "nbconvert_exporter": "python",
   "pygments_lexer": "ipython3",
   "version": "3.12.3"
  }
 },
 "nbformat": 4,
 "nbformat_minor": 5
}
