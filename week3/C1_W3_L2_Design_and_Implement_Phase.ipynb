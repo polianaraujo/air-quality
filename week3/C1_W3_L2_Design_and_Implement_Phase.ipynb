{
 "cells": [
  {
   "cell_type": "markdown",
   "metadata": {},
   "source": [
    "# Air Quality: Design (wrap up) and Implement your Product\n",
    "\n",
    "Welcome to the final lab of this project. Here again, you'll be working with the dataset you've now become familiar with from the air quality monitoring network in Bogotá [RMCAB](http://201.245.192.252:81/home/map). In this notebook, you will complete the following steps:\n",
    "\n",
    "1. Import Python packages\n",
    "2. Load the dataset with missing values filled in (output from the last lab)\n",
    "3. Use the nearest neighbor method to make a map of PM2.5 in Bogotá\n",
    "4. Test different values of k for the nearest neighbor method\n",
    "5. Use the best value of k to make a map of PM2.5 in Bogotá\n",
    "6. Construct a map animation of PM2.5 in Bogotá\n",
    "7. Display your map animation"
   ]
  },
  {
   "cell_type": "markdown",
   "metadata": {},
   "source": [
    "## 1. Import Python Packages\n",
    "\n",
    "Run the next cell to import the Python packages you'll need for this lab.\n",
    "\n",
    "Note the `import utils` line. This line imports the functions that were specifically written for this lab. If you want to look at what these functions are, go to `File -> Open...` and open the `utils.py` file to have a look."
   ]
  },
  {
   "cell_type": "code",
   "execution_count": null,
   "metadata": {},
   "outputs": [],
   "source": [
    "# Import Python packages.\n",
    "import folium # package for animations\n",
    "import folium.plugins as plugins # extras for animations\n",
    "import pandas as pd # package for reading in and manipulating data\n",
    "from sklearn.neighbors import KNeighborsRegressor # package for doing KNN\n",
    "from datetime import datetime # package for manipulating dates\n",
    "\n",
    "import utils1 # utility functions defined for this lab\n",
    "\n",
    "print(\"All packages imported successfully!\")"
   ]
  },
  {
   "cell_type": "markdown",
   "metadata": {},
   "source": [
    "## 2. Load the dataset with missing values filled in (output from the last lab)\n",
    "\n",
    "Run the next cell to read in the dataset that was the final output from the last lab, namely, a dataset with all missing values for the pollutants filled in. "
   ]
  },
  {
   "cell_type": "code",
   "execution_count": null,
   "metadata": {},
   "outputs": [],
   "source": [
    "# Load the dataset with missing values filled in.\n",
    "full_dataset = pd.read_csv('data/full_data_with_imputed_values.csv')\n",
    "full_dataset['DateTime'] = pd.to_datetime(full_dataset['DateTime'], dayfirst=True)\n",
    "\n",
    "full_dataset.head(5)"
   ]
  },
  {
   "cell_type": "markdown",
   "metadata": {},
   "source": [
    "## 3. Use the nearest neighbor method to make a map of PM2.5 in Bogotá\n",
    "Here you use the nearest neighbor method to estimate the values of pollutants at the points between the stations, so you can create a nice visual map of pollution."
   ]
  },
  {
   "cell_type": "code",
   "execution_count": null,
   "metadata": {},
   "outputs": [],
   "source": [
    "# Define a value for k\n",
    "k = 3\n",
    "# Define the target pollutant\n",
    "target = 'PM2.5'\n",
    "# Define a grid cell size (higher value implies a finer grid)\n",
    "n_points_grid = 64\n",
    "neighbors_model = KNeighborsRegressor(n_neighbors=k, weights = 'distance', metric='sqeuclidean')\n",
    "# Isolate a single time step from the dataset\n",
    "time_step = datetime.fromisoformat('2021-04-05T08:00:00')\n",
    "time_step_data = full_dataset[full_dataset['DateTime'] == time_step]\n",
    "neighbors_model.fit(time_step_data[['Latitude', 'Longitude']], time_step_data[[target]])\n",
    "# Generate a map of predictions for Bogotá\n",
    "predictions_xy, dlat, dlon = utils.predict_on_bogota(neighbors_model, n_points_grid)\n",
    "utils.create_heat_map(predictions_xy, time_step_data, dlat, dlon, target)"
   ]
  },
  {
   "cell_type": "markdown",
   "metadata": {},
   "source": [
    "## 4. Test different values of k for the nearest neighbor method\n",
    "Run the cells below to first calculate the mean absolute error (MAE) for k=1, or in other words, the error associated with using just one nearest neighbor as you did to create the map above. After that, you'll run the same calculation for different values of k. \n",
    "\n",
    "The way you're doing this similar to what you did in the previous lab, where you calculated the MAE for using nearby sensor station measurements to estimate the value of PM2.5 at any given sensor station location. Here you'll evaluate the method shown in the map above at each sensor station location as if that station's measurement was replaced with a value from the nearest neighbor station, and then a weighted average of k nearest neighbor stations.\n",
    "\n",
    "\n",
    "The calculation for mean absolute error that's being performed by the code before is the following:\n",
    "\n",
    "$$MAE = \\frac{1}{n} \\sum_{i=1}^{n}{|\\rm{actual}_i - \\rm{model}_i|}$$\n",
    "    \n",
    "Where \"n\" is the number of samples in the test dataset"
   ]
  },
  {
   "cell_type": "code",
   "execution_count": null,
   "metadata": {},
   "outputs": [],
   "source": [
    "# Make an estimate of mean absolute error for k=1\n",
    "utils.calculate_mae_for_k(full_dataset, k=1, target_pollutant=target)"
   ]
  },
  {
   "cell_type": "markdown",
   "metadata": {},
   "source": [
    "After testing k=1, run the following cell to test a range of values for k."
   ]
  },
  {
   "cell_type": "code",
   "execution_count": null,
   "metadata": {},
   "outputs": [],
   "source": [
    "# Make an estimate of mean absolute error (MAE) for a range of k values.\n",
    "kmin = 1\n",
    "kmax = 7\n",
    "\n",
    "for kneighbors in range(kmin, kmax+1):\n",
    "    mae = utils.calculate_mae_for_k(full_dataset, k=kneighbors, target_pollutant=target)\n",
    "    print(f'k = {kneighbors}, MAE = {mae}')"
   ]
  },
  {
   "cell_type": "markdown",
   "metadata": {},
   "source": [
    "## 5. Use the best value of k to make a map of PM2.5 in Bogotá\n",
    "\n",
    "Run the cell below to generate a map of PM2.5 values. The map will show the concentration of the chosen pollutant over the city on the selected `end_date`. By clicking on the circles on the map (stations), pop-up plots appear, showing the concentration of the pollutant over the selected time range (from `start_date` to `end_date`) You can change the values of dates and times or `k` to see how the data differs at various times and how the result changes depending on `k`."
   ]
  },
  {
   "cell_type": "code",
   "execution_count": null,
   "metadata": {
    "scrolled": false
   },
   "outputs": [],
   "source": [
    "k = 3\n",
    "start_date = datetime.fromisoformat('2021-08-02T08:00:00')\n",
    "end_date = datetime.fromisoformat('2021-08-05T08:00:00')\n",
    "\n",
    "utils.create_heat_map_with_date_range(full_dataset, start_date, end_date, k, target)"
   ]
  },
  {
   "cell_type": "markdown",
   "metadata": {},
   "source": [
    "## 6. Construct a map animation of PM2.5 in Bogotá\n",
    "Run the next cell to generate an animation of PM2.5 over a specific time range. You can change k to use a different number of neighbors and change the dates and times to look at a different time range. "
   ]
  },
  {
   "cell_type": "code",
   "execution_count": null,
   "metadata": {},
   "outputs": [],
   "source": [
    "# Choose parameters for the animation\n",
    "k = 3\n",
    "n_points_grid = 64\n",
    "# Filter a date range\n",
    "start_date = datetime.fromisoformat('2021-08-04T08:00:00')\n",
    "end_date = datetime.fromisoformat('2021-08-05T08:00:00')\n",
    "\n",
    "# Create the features for the animation (these are the shapes that will appear on the map)\n",
    "features = utils.create_animation_features(full_dataset, start_date, end_date, k, n_points_grid, target)\n",
    "print('Features for the animation created successfully! Run the next cell to see the result!')"
   ]
  },
  {
   "cell_type": "markdown",
   "metadata": {},
   "source": [
    "## 7. Display your map animation\n",
    "\n",
    "Run the next cell to display the animation you created!"
   ]
  },
  {
   "cell_type": "code",
   "execution_count": null,
   "metadata": {},
   "outputs": [],
   "source": [
    "# Create the map animation using the folium library\n",
    "map_animation = folium.Map(location=[4.7110, -74.0721], zoom_start = 11) \n",
    "# Add the features to the animation\n",
    "plugins.TimestampedGeoJson(\n",
    "    {\"type\": \"FeatureCollection\", \"features\": features},\n",
    "    period=\"PT1H\",\n",
    "    duration='PT1H',\n",
    "    add_last_point=True\n",
    ").add_to(map_animation)\n",
    "\n",
    "# Run the animation\n",
    "map_animation"
   ]
  },
  {
   "cell_type": "markdown",
   "metadata": {},
   "source": [
    "## **Congratulations on finishing this lab!**\n",
    "\n",
    "**Keep up the good work :)**"
   ]
  }
 ],
 "metadata": {
  "kernelspec": {
   "display_name": "Python 3",
   "language": "python",
   "name": "python3"
  },
  "language_info": {
   "codemirror_mode": {
    "name": "ipython",
    "version": 3
   },
   "file_extension": ".py",
   "mimetype": "text/x-python",
   "name": "python",
   "nbconvert_exporter": "python",
   "pygments_lexer": "ipython3",
   "version": "3.7.6"
  }
 },
 "nbformat": 4,
 "nbformat_minor": 5
}
